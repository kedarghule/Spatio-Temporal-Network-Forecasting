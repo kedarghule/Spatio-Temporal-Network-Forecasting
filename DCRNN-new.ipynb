{
 "cells": [
  {
   "cell_type": "code",
   "execution_count": 1,
   "metadata": {},
   "outputs": [],
   "source": [
    "import torch\n",
    "from torch_geometric_temporal.dataset import METRLADatasetLoader\n",
    "from torch_geometric_temporal.signal import temporal_signal_split\n",
    "import numpy as np\n"
   ]
  },
  {
   "cell_type": "code",
   "execution_count": 2,
   "metadata": {},
   "outputs": [],
   "source": [
    "DEVICE = torch.device('cuda') # cuda\n",
    "shuffle=True\n",
    "batch_size = 32"
   ]
  },
  {
   "cell_type": "code",
   "execution_count": 3,
   "metadata": {},
   "outputs": [],
   "source": [
    "# Loading dataset\n",
    "\n",
    "loader = METRLADatasetLoader()\n",
    "\n",
    "dataset = loader.get_dataset()\n",
    "\n",
    "train_dataset, test_dataset = temporal_signal_split(dataset, train_ratio = 0.8)\n",
    "train_dataset, val_dataset = temporal_signal_split(train_dataset, train_ratio=0.8)"
   ]
  },
  {
   "cell_type": "code",
   "execution_count": null,
   "metadata": {},
   "outputs": [],
   "source": []
  },
  {
   "cell_type": "code",
   "execution_count": 4,
   "metadata": {},
   "outputs": [],
   "source": [
    "import numpy as np\n",
    "import pandas as pd\n",
    "import torch.nn as nn\n",
    "import torch.optim as optim\n",
    "import torch.utils.data as data"
   ]
  },
  {
   "cell_type": "code",
   "execution_count": 5,
   "metadata": {},
   "outputs": [],
   "source": [
    "import torch.nn.functional as F\n",
    "from torch_geometric_temporal.nn.recurrent import DCRNN\n",
    "from tqdm import tqdm"
   ]
  },
  {
   "cell_type": "code",
   "execution_count": 6,
   "metadata": {},
   "outputs": [
    {
     "name": "stdout",
     "output_type": "stream",
     "text": [
      "Cuda Available?:  True\n",
      "Current Device:  NVIDIA GeForce GTX 1060 with Max-Q Design\n"
     ]
    }
   ],
   "source": [
    "print(\"Cuda Available?: \", torch.cuda.is_available())\n",
    "print(\"Current Device: \", torch.cuda.get_device_name(torch.cuda.current_device()))"
   ]
  },
  {
   "cell_type": "code",
   "execution_count": 7,
   "metadata": {},
   "outputs": [],
   "source": [
    "# for batches\n",
    "#https://github.com/benedekrozemberczki/pytorch_geometric_temporal/blob/master/examples/recurrent/a3tgcn2_example.py\n",
    "train_input = np.array(train_dataset.features) # (27399, 207, 2, 12)\n",
    "train_target = np.array(train_dataset.targets) # (27399, 207, 12)\n",
    "train_x_tensor = torch.from_numpy(train_input).type(torch.FloatTensor).to(DEVICE)  # (B, N, F, T)\n",
    "train_target_tensor = torch.from_numpy(train_target).type(torch.FloatTensor).to(DEVICE)  # (B, N, T)\n",
    "train_dataset_new = torch.utils.data.TensorDataset(train_x_tensor, train_target_tensor)\n",
    "train_loader = torch.utils.data.DataLoader(train_dataset_new, batch_size=batch_size, shuffle=shuffle,drop_last=True)\n",
    "\n",
    "val_input = np.array(val_dataset.features) # (27399, 207, 2, 12)\n",
    "val_target = np.array(val_dataset.targets) # (27399, 207, 12)\n",
    "val_x_tensor = torch.from_numpy(val_input).type(torch.FloatTensor).to(DEVICE)  # (B, N, F, T)\n",
    "val_target_tensor = torch.from_numpy(val_target).type(torch.FloatTensor).to(DEVICE)  # (B, N, T)\n",
    "val_dataset_new = torch.utils.data.TensorDataset(val_x_tensor, val_target_tensor)\n",
    "val_loader = torch.utils.data.DataLoader(val_dataset_new, batch_size=batch_size, shuffle=shuffle,drop_last=True)\n",
    "\n",
    "test_input = np.array(test_dataset.features) # (, 207, 2, 12)\n",
    "test_target = np.array(test_dataset.targets) # (, 207, 12)\n",
    "test_x_tensor = torch.from_numpy(test_input).type(torch.FloatTensor).to(DEVICE)  # (B, N, F, T)\n",
    "test_target_tensor = torch.from_numpy(test_target).type(torch.FloatTensor).to(DEVICE)  # (B, N, T)\n",
    "test_dataset_new = torch.utils.data.TensorDataset(test_x_tensor, test_target_tensor)\n",
    "test_loader = torch.utils.data.DataLoader(test_dataset_new, batch_size=batch_size, shuffle=shuffle,drop_last=True)"
   ]
  },
  {
   "cell_type": "code",
   "execution_count": 8,
   "metadata": {},
   "outputs": [],
   "source": [
    "class dcrnnEncoder(torch.nn.Module):\n",
    "    def __init__(self, in_channels, out_channels, k, num_cells):\n",
    "        super(dcrnnEncoder, self).__init__()\n",
    "        #self.recurrent = DCRNN(node_features, 64, 3)\n",
    "        self.cells = nn.ModuleList()\n",
    "        self.cells.append(DCRNN(in_channels, out_channels,k))\n",
    "        for i in range(num_cells-1):\n",
    "            self.cells.append(DCRNN(out_channels, out_channels,k))\n",
    "        #self.linear = torch.nn.Linear(64, 12)\n",
    "\n",
    "    # x needs to be 207 x 12\n",
    "    def forward(self, x, edge_index, edge_weight):\n",
    "        # x is B, N, F, T\n",
    "        #x = x.permute(0,1,3,2)\n",
    "        # x is B, N, T, F\n",
    "        #print('x_in shape: ', x_in.shape)\n",
    "        # get just speed\n",
    "        #x = x[:,:,:,0]\n",
    "        #reshape to (B*N, T)\n",
    "        hiddens = []\n",
    "        for i, l in enumerate(self.cells):\n",
    "            #print(i,\": \", x.shape)\n",
    "            x = l(x, edge_index, edge_weight)\n",
    "            hiddens.append(x)\n",
    "            x = F.relu(x)\n",
    "        return x, hiddens"
   ]
  },
  {
   "cell_type": "code",
   "execution_count": 9,
   "metadata": {},
   "outputs": [],
   "source": [
    "class dcrnnDecoder(torch.nn.Module):\n",
    "    def __init__(self, in_channels, hid_channels, out_channels, k, num_cells):\n",
    "        super(dcrnnDecoder, self).__init__()\n",
    "        #self.recurrent = DCRNN(node_features, 64, 3)\n",
    "        self.cells = nn.ModuleList()\n",
    "        self.cells.append(DCRNN(in_channels, hid_channels,k))\n",
    "        for i in range(num_cells-1):\n",
    "            self.cells.append(DCRNN(hid_channels, hid_channels,k))\n",
    "        self.linear = torch.nn.Linear(hid_channels, out_channels)\n",
    "\n",
    "    # x needs to be 207 x 12\n",
    "    def forward(self, x, edge_index, edge_weight, hidden_states):\n",
    "        # x is B, N, F, T\n",
    "        #x = x.permute(0,1,3,2)\n",
    "        # x is B, N, T, F\n",
    "        #print('x_in shape: ', x_in.shape)\n",
    "        # get just speed\n",
    "        # x = x[:,:,:,0]\n",
    "        #reshape to (B*N, T)\n",
    "        hiddens = []\n",
    "        for i, l in enumerate(self.cells):\n",
    "            #print(i,\": \", x.shape)\n",
    "            x = l(x, edge_index, edge_weight, hidden_states[i])\n",
    "            hiddens.append(x)\n",
    "            x = F.relu(x)\n",
    "        x = self.linear(x)\n",
    "        return x, hiddens"
   ]
  },
  {
   "cell_type": "code",
   "execution_count": 10,
   "metadata": {},
   "outputs": [],
   "source": [
    "#https://github.com/benedekrozemberczki/pytorch_geometric_temporal/blob/master/examples/recurrent/dcrnn_example.py\n",
    "import traceback\n",
    "class RecurrentGCN(torch.nn.Module):\n",
    "    def __init__(self, in_feats, out_feats, hidden_feats, num_cells, k, seq_len):\n",
    "        super(RecurrentGCN, self).__init__()\n",
    "        self.seq_len = seq_len\n",
    "        self.encoder = dcrnnEncoder(in_feats, hidden_feats, k, num_cells)\n",
    "        self.decoder = dcrnnDecoder(in_feats, hidden_feats, out_feats, k, num_cells)\n",
    "        \n",
    "\n",
    "    # x needs to be 207 x 12\n",
    "    def forward(self, x, edge_index, edge_weight):\n",
    "        # x is B, N, F, T\n",
    "        x = x.permute(3,0,1,2)\n",
    "        # x is T, B, N, F, \n",
    "        #print('x_in shape: ', x_in.shape)\n",
    "        # get just speed\n",
    "        #x = x[:,:,:,0]\n",
    "        #reshape to (T, B*N, F)\n",
    "        x = x.reshape((x.shape[0], x.shape[1]*x.shape[2], x.shape[3]))\n",
    "        for i in range(self.seq_len):\n",
    "            #print(\"in shape: \", x[i].shape)\n",
    "            #print(\"edge idx: \", edge_index.shape)\n",
    "            #print(\"edge_weight\", edge_weight.shape)\n",
    "            try:\n",
    "                encode_out, encode_states = self.encoder(x[i], edge_index, edge_weight)\n",
    "            except:\n",
    "                traceback.print_exc()\n",
    "        outputs = []\n",
    "        for i in range(self.seq_len):  \n",
    "            decode_out, decode_states = self.decoder(x[i], edge_index, edge_weight, encode_states)\n",
    "            outputs.append(decode_out)\n",
    "        outputs = torch.stack(outputs).cuda()\n",
    "        return outputs\n",
    "\n",
    "device = torch.device(\"cuda\" if torch.cuda.is_available() else \"cpu\")\n",
    "#device = 'cpu'\n",
    "\n",
    "model = RecurrentGCN(in_feats=2, out_feats=1, hidden_feats = 64, num_cells=2, k=3, seq_len=12)\n",
    "\n",
    "model = model.to(device)\n",
    "\n",
    "optimizer = torch.optim.Adam(model.parameters(), lr=0.01)\n",
    "lr_decay_ratio=0.1\n",
    "\n",
    "steps = [20,30,40,50,60,70,80,90]\n",
    "\n",
    "lr_scheduler = torch.optim.lr_scheduler.MultiStepLR(optimizer, milestones=steps, gamma=lr_decay_ratio)\n",
    "\n",
    "#lr_scheduler = torch.optim.lr_scheduler.StepLR(optimizer, step_size=5, gamma=lr_decay_ratio)\n",
    "\n",
    "loss_fn = torch.nn.MSELoss()\n",
    "loss_fn2 = F.l1_loss"
   ]
  },
  {
   "cell_type": "code",
   "execution_count": 15,
   "metadata": {},
   "outputs": [
    {
     "ename": "KeyboardInterrupt",
     "evalue": "",
     "output_type": "error",
     "traceback": [
      "\u001b[1;31m---------------------------------------------------------------------------\u001b[0m",
      "\u001b[1;31mKeyboardInterrupt\u001b[0m                         Traceback (most recent call last)",
      "Cell \u001b[1;32mIn[15], line 40\u001b[0m\n\u001b[0;32m     38\u001b[0m step\u001b[39m=\u001b[39m step\u001b[39m+\u001b[39m \u001b[39m1\u001b[39m\n\u001b[0;32m     39\u001b[0m \u001b[39m#loss = torch.sqrt(loss)\u001b[39;00m\n\u001b[1;32m---> 40\u001b[0m loss_list\u001b[39m.\u001b[39mappend(loss\u001b[39m.\u001b[39;49mitem())\n\u001b[0;32m     41\u001b[0m \u001b[39mif\u001b[39;00m step \u001b[39m%\u001b[39m \u001b[39m100\u001b[39m \u001b[39m==\u001b[39m \u001b[39m0\u001b[39m :\n\u001b[0;32m     42\u001b[0m     \u001b[39mprint\u001b[39m(\u001b[39m\"\u001b[39m\u001b[39m    train MAE: \u001b[39m\u001b[39m\"\u001b[39m, \u001b[39msum\u001b[39m(loss_list)\u001b[39m/\u001b[39m\u001b[39mlen\u001b[39m(loss_list))\n",
      "\u001b[1;31mKeyboardInterrupt\u001b[0m: "
     ]
    }
   ],
   "source": [
    "# Loading the graph once because it's a static graph\n",
    "for snapshot in train_dataset:\n",
    "    static_edge_index = snapshot.edge_index.to(DEVICE)\n",
    "    static_edge_attr = snapshot.edge_attr.to(DEVICE)\n",
    "    break\n",
    "\n",
    "# Training the model \n",
    "model.train()\n",
    "\n",
    "epoch_vals = []\n",
    "epoch_trains = []\n",
    "for epoch in range(100):\n",
    "    step = 0\n",
    "    loss_list = []\n",
    "    val_loss_list = []\n",
    "    for encoder_inputs, labels in train_loader:\n",
    "        # if encoder_inputs.shape[0] != batch_size:\n",
    "        #     print(\"ERROR IN SHAPE:\", encoder_inputs.shape)\n",
    "        # else:\n",
    "        #     print(encoder_inputs.shape)\n",
    "        y_hat = model(encoder_inputs, static_edge_index, static_edge_attr)         # Get model predictions\n",
    "        #print(y_hat.shape)\n",
    "        #print(labels.shape)\n",
    "        # yhat is T, B*N, 1\n",
    "        y_hat = y_hat.permute(1, 2, 0)\n",
    "        # reshape back to BxNxT\n",
    "        #print(y_hat.shape)\n",
    "        y_hat = y_hat.reshape((labels.shape))\n",
    "        #print(\"y hat:\" , y_hat.shape, \" labels: \", labels.shape)\n",
    "        mean = [53.59967, 0.4982691]\n",
    "        std = [20.209862, 0.28815305]\n",
    "        labels = labels*std[0] + mean[0]\n",
    "        y_hat = y_hat*std[0] + mean[0]\n",
    "        loss = loss_fn2(y_hat, labels) \n",
    "        loss.backward()\n",
    "        optimizer.step()\n",
    "        optimizer.zero_grad()\n",
    "        step= step+ 1\n",
    "        #loss = torch.sqrt(loss)\n",
    "        loss_list.append(loss.item())\n",
    "        if step % 100 == 0 :\n",
    "            print(\"    train MAE: \", sum(loss_list)/len(loss_list))\n",
    "    lr_scheduler.step()\n",
    "    train_MAE = sum(loss_list)/len(loss_list)\n",
    "    epoch_trains.append(train_MAE)\n",
    "    print(\"Epoch {} train MAE: {:.4f}\".format(epoch, train_MAE))\n",
    "\n",
    "    model.eval()\n",
    "\n",
    "    for encoder_inputs, labels in val_loader:\n",
    "        y_hat = model(encoder_inputs, static_edge_index, static_edge_attr)         # Get model predictions\n",
    "        #print(y_hat.shape)\n",
    "        #print(labels.shape)\n",
    "        # yhat is T, B*N, 1\n",
    "        y_hat = y_hat.permute(1, 2, 0)\n",
    "        # reshape back to BxNxT\n",
    "        #print(y_hat.shape)\n",
    "        y_hat = y_hat.reshape((labels.shape))\n",
    "        mean = [53.59967, 0.4982691]\n",
    "        std = [20.209862, 0.28815305]\n",
    "        labels = labels*std[0] + mean[0]\n",
    "        y_hat = y_hat*std[0] + mean[0]\n",
    "        loss = loss_fn2(y_hat, labels) \n",
    "        val_loss_list.append(loss.item())\n",
    "        #if step % 100 == 0 :\n",
    "        #    print(\"    train MAE: \", sum(loss_list)/len(loss_list))\n",
    "    val_MAE = sum(val_loss_list)/len(val_loss_list)\n",
    "    epoch_vals.append(val_MAE)\n",
    "    print(\"Epoch {} val MAE: {:.4f}\".format(epoch, val_MAE))\n",
    "  \n",
    "\n",
    "## Evaluation\n",
    "\n",
    "#- Lets get some sample predictions for a specific horizon (e.g. 288/12 = 24 hours)\n",
    "#- The model always gets one hour and needs to predict the next hour\n",
    "\n",
    "model.eval()\n",
    "step = 0\n",
    "# Store for analysis\n",
    "total_loss = []\n",
    "for encoder_inputs, labels in test_loader:\n",
    "    # Get model predictions\n",
    "    y_hat = model(encoder_inputs, static_edge_index, static_edge_attr)\n",
    "    #print(y_hat.shape)\n",
    "    #print(labels.shape)\n",
    "    # yhat is T, B*N, 1\n",
    "    y_hat = y_hat.permute(1, 2, 0)\n",
    "    # reshape back to BxNxT\n",
    "    #print(y_hat.shape)\n",
    "    y_hat = y_hat.reshape((labels.shape))\n",
    "    # undo z-score\n",
    "    mean = [53.59967, 0.4982691]\n",
    "    std = [20.209862, 0.28815305]\n",
    "    labels = labels*std[0] + mean[0]\n",
    "    y_hat = y_hat*std[0] + mean[0]\n",
    "    # Mean squared error\n",
    "    #loss = loss_fn(y_hat, labels)\n",
    "    # Mean absolute error\n",
    "    loss = loss_fn2(y_hat, labels)\n",
    "    total_loss.append(loss.item())\n",
    "    # Store for analysis below\n",
    "    #test_labels.append(labels)\n",
    "    #predictions.append(y_hat)\n",
    "    \n",
    "\n",
    "print(\"Test MAE: {:.4f}\".format(sum(total_loss)/len(total_loss)))\n",
    "\n"
   ]
  },
  {
   "cell_type": "code",
   "execution_count": null,
   "metadata": {},
   "outputs": [],
   "source": [
    "torch.save(model, \"dcrnn_4_24\")"
   ]
  },
  {
   "cell_type": "code",
   "execution_count": null,
   "metadata": {},
   "outputs": [
    {
     "name": "stdout",
     "output_type": "stream",
     "text": [
      "[4.6181958030251895, 4.696093590119306, 4.563377930136288, 4.583720131481395, 4.531516271478989, 4.7971130258896775, 4.5612548014696905, 4.5089328317081225, 4.593786772559671, 4.577736977969899, 4.519587292390711, 4.506462346806246, 4.482652221006505, 4.524929924572215, 4.549955940246582, 4.4901377397425035, 4.506476724849028, 4.503085823620067, 4.478586592393763, 4.501496084998636, 4.4369101608500765, 4.433597758237053, 4.43433217160842, 4.447387476528392, 4.430844865125768, 4.428740229326136, 4.436907142751357, 4.435491536645328, 4.430200357998118, 4.437904890845804, 4.433229785806993, 4.407254996019251, 4.432292189317591, 4.40745935159571, 4.42586550432093, 4.424384274202235, 4.416888598834767, 4.423895462821512, 4.429526881610646, 4.425868791692397, 4.417733066222247, 4.429021080802468, 4.42190858336056, 4.423879006329705, 4.428090855654548, 4.42579636293299, 4.422193485147813, 4.419559551687802, 4.410024539162131, 4.424417316212374, 4.423856090096867, 4.422612754036399, 4.427878492018756, 4.420956218943877, 4.429361994126264, 4.4206704532398895, 4.415592028112973, 4.419076431498808, 4.422301805720609, 4.425169344509349, 4.415896393271053, 4.421097261765424, 4.41918415181777, 4.415763518389533, 4.424373694027172, 4.405884498708389, 4.421559625513414, 4.4088500780217785, 4.396086381463443, 4.42206893528209, 4.414911129895379, 4.418374322442448, 4.416865110397339, 4.425503363328821, 4.415424829370835, 4.423684465183931, 4.424992499631994, 4.423058756660013, 4.417348626080681, 4.428159147150376, 4.4101482980391555, 4.42955002784729, 4.408895097059362, 4.419801114587223, 4.419014577304615, 4.42499947828405, 4.423145759806913, 4.411897793938132, 4.427758713329539, 4.407965542288387, 4.42294530027053, 4.406596065970028, 4.426333519991706, 4.414895155850579, 4.41753096300013, 4.420764564065372, 4.426378763423246, 4.415646266937256, 4.424948818543378, 4.421262968287748]\n",
      "[5.1787549103909765, 4.828253263618514, 4.789692178107145, 4.772031739441275, 4.74600853348336, 4.740954643104509, 4.7193917391593, 4.735282096946449, 4.715080327457851, 4.677529708683839, 4.6772836230651675, 4.681376712364063, 4.674218605136313, 4.67422608464782, 4.659455362119172, 4.652333175926878, 4.679510140976711, 4.65380160641252, 4.646066761156272, 4.640382123969451, 4.572151807316563, 4.559987551287601, 4.5605454486713075, 4.560303726391486, 4.559267522298802, 4.555301020019932, 4.552138112441838, 4.5515755763527945, 4.548550137999462, 4.545128275079337, 4.539223570572703, 4.535244464177137, 4.537470132286786, 4.5357954327823125, 4.536619102745726, 4.532158893451356, 4.534067720000507, 4.533487284392641, 4.534003553334733, 4.534930476668285, 4.533170706347415, 4.532565073660242, 4.529264694068864, 4.530170271271153, 4.529011823977643, 4.530821462123715, 4.532812056485673, 4.532421430649116, 4.530648364658244, 4.529108835939775, 4.529732634449563, 4.52952035756139, 4.527132426089014, 4.530922260897898, 4.534012708747596, 4.532826391577023, 4.533398503448531, 4.5272508831749185, 4.529801153997232, 4.5309073381256635, 4.528713770777161, 4.531466137596041, 4.529969929254543, 4.532595815017209, 4.53038633985129, 4.533119753787392, 4.5311265270612395, 4.529874551365947, 4.531607908812183, 4.532049423769901, 4.530952175458272, 4.53027079467885, 4.532881619637473, 4.531050042102211, 4.529339649523908, 4.5318147229869465, 4.531563196963037, 4.5277471061338455, 4.5318461084923545, 4.53379453901659, 4.532209821611817, 4.528940787789417, 4.530231648718405, 4.52855990992652, 4.525985430555734, 4.529013890271996, 4.533036806430036, 4.527241270444547, 4.532851090905262, 4.532547461359124, 4.531233086920621, 4.5334373775281405, 4.527559430975663, 4.5292358328724465, 4.525005415866249, 4.529973563395049, 4.5299061801698475, 4.530871460312291, 4.531553526370846, 4.527035186165257]\n"
     ]
    }
   ],
   "source": [
    "print(epoch_vals)\n",
    "print(epoch_trains)"
   ]
  },
  {
   "cell_type": "code",
   "execution_count": null,
   "metadata": {},
   "outputs": [],
   "source": [
    "#%pip install matplotlib\n",
    "import matplotlib.pyplot as plt"
   ]
  },
  {
   "cell_type": "code",
   "execution_count": null,
   "metadata": {},
   "outputs": [
    {
     "data": {
      "image/png": "[encoded data removed]",
      "text/plain": [
       "<Figure size 640x480 with 1 Axes>"
      ]
     },
     "metadata": {},
     "output_type": "display_data"
    }
   ],
   "source": [
    "plt.plot(epoch_trains, label = 'Train')\n",
    "plt.plot(epoch_vals, label = 'Validation')\n",
    "plt.legend()\n",
    "plt.xlabel(\"Epoch\")\n",
    "plt.ylabel(\"MAE\")\n",
    "plt.show()\n",
    "\n"
   ]
  },
  {
   "cell_type": "code",
   "execution_count": null,
   "metadata": {},
   "outputs": [],
   "source": []
  },
  {
   "cell_type": "code",
   "execution_count": null,
   "metadata": {},
   "outputs": [],
   "source": [
    "# no batching\n",
    "# model.train()\n",
    "\n",
    "# for epoch in tqdm(range(10)):\n",
    "#     cost = 0\n",
    "#     for time, snapshot in enumerate(train_dataset):\n",
    "#         if(time == 0):\n",
    "#             edge_idx = snapshot.edge_index.to(device)\n",
    "#             edge_attr = snapshot.edge_attr.to(device)\n",
    "#         x_in = snapshot.x.permute(0,2,1)\n",
    "#         #print('x_in shape: ', x_in.shape)\n",
    "#         x_in = x_in[:,:,0]\n",
    "#         x_in = x_in.reshape((x_in.shape[0], x_in.shape[1]))\n",
    "#         n,f,t = snapshot.x.shape  # n = num nodes, f = num features, t = num timesteps\n",
    "        \n",
    "#         #x_in = snapshot.x.reshape((t, n*f))\n",
    "#         #print('new x_in shape: ', x_in.shape)\n",
    "#         x_in = x_in.to(device)\n",
    "        \n",
    "#         y_hat = model(x_in, edge_idx, edge_attr)\n",
    "#         y = snapshot.y.to(device)\n",
    "#         cost = cost + torch.mean((y_hat-y)**2)\n",
    "#         #print(\"y_hat shape: \", y_hat.shape)\n",
    "#         #print(\"y shape: \", y.shape)\n",
    "#         #print(time)\n",
    "#     cost = cost / (time+1)\n",
    "#     cost.backward()\n",
    "#     optimizer.step()\n",
    "#     optimizer.zero_grad()\n",
    "    \n",
    "# model.eval()\n",
    "# cost = 0\n",
    "# for time, snapshot in enumerate(test_dataset):\n",
    "#     x_in = snapshot.x.permute(0,2,1)\n",
    "#     #print('x_in shape: ', x_in.shape)\n",
    "#     x_in = x_in[:,:,0]\n",
    "#     x_in = x_in.reshape((x_in.shape[0], x_in.shape[1]))\n",
    "#     x_in = x_in.to(device)\n",
    "#     edge_idx = snapshot.edge_index.to(device)\n",
    "#     edge_attr = snapshot.edge_attr.to(device)\n",
    "#     y_hat = model(x_in, edge_idx, edge_attr)\n",
    "#     y = snapshot.y.to(device)\n",
    "#     #print(\"y_hat shape: \", y_hat.shape)\n",
    "#     #print(\"y shape: \", y.shape)\n",
    "#     cost = cost + torch.mean((y_hat-y)**2)\n",
    "# cost = cost / (time+1)\n",
    "# cost = cost.item()\n",
    "# print(\"MSE: {:.4f}\".format(cost))"
   ]
  }
 ],
 "metadata": {
  "kernelspec": {
   "display_name": "pytorch_env",
   "language": "python",
   "name": "python3"
  },
  "language_info": {
   "codemirror_mode": {
    "name": "ipython",
    "version": 3
   },
   "file_extension": ".py",
   "mimetype": "text/x-python",
   "name": "python",
   "nbconvert_exporter": "python",
   "pygments_lexer": "ipython3",
   "version": "3.10.9"
  },
  "orig_nbformat": 4
 },
 "nbformat": 4,
 "nbformat_minor": 2
}
